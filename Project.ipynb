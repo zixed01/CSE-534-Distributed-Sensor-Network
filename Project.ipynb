{
 "cells": [
  {
   "cell_type": "markdown",
   "metadata": {},
   "source": [
    "# Decentralized Data Distribution Network Setup"
   ]
  },
  {
   "cell_type": "code",
   "execution_count": null,
   "metadata": {
    "scrolled": true
   },
   "outputs": [],
   "source": [
    "from ipaddress import ip_address, IPv4Address, IPv6Address, IPv4Network, IPv6Network\n",
    "import ipaddress\n",
    "\n",
    "from fabrictestbed_extensions.fablib.fablib import FablibManager as fablib_manager\n",
    "\n",
    "fablib = fablib_manager()\n",
    "\n",
    "fablib.show_config();"
   ]
  },
  {
   "cell_type": "code",
   "execution_count": null,
   "metadata": {
    "scrolled": true
   },
   "outputs": [],
   "source": [
    "fablib.list_sites();"
   ]
  },
  {
   "cell_type": "code",
   "execution_count": null,
   "metadata": {},
   "outputs": [],
   "source": [
    "# Optional list of fields to display.\n",
    "# fields=None desplays all fields.\n",
    "fields=['name','cores_available','ram_available','disk_available','nic_basic_available']"
   ]
  },
  {
   "cell_type": "code",
   "execution_count": null,
   "metadata": {},
   "outputs": [],
   "source": [
    "output_table = fablib.list_sites(fields=fields)"
   ]
  },
  {
   "cell_type": "code",
   "execution_count": null,
   "metadata": {},
   "outputs": [],
   "source": [
    "slice_name=\"project-\" + fablib.get_bastion_username()"
   ]
  },
  {
   "cell_type": "code",
   "execution_count": null,
   "metadata": {
    "scrolled": true
   },
   "outputs": [],
   "source": [
    "try:\n",
    "    slice = fablib.get_slice(slice_name)\n",
    "    print(\"You already have a slice by this name!\")\n",
    "    print(\"If you previously reserved resources, skip to the 'log in to resources' section.\")\n",
    "except:\n",
    "    print(\"You don't have a slice named %s yet.\" % slice_name)\n",
    "    print(\"Continue to the next step to make one.\")\n",
    "    slice = fablib.new_slice(name=slice_name)"
   ]
  },
  {
   "cell_type": "code",
   "execution_count": null,
   "metadata": {},
   "outputs": [],
   "source": [
    "while True:\n",
    "    ne_site_name = \"RUTG\"\n",
    "    if ( (fablib.resources.get_core_available(ne_site_name) > 8) and\n",
    "        (fablib.resources.get_component_available(ne_site_name, 'SharedNIC-ConnectX-6') > 8) ):\n",
    "        fablib.show_site(ne_site_name)\n",
    "        break\n",
    "    else:\n",
    "        print(f\"Not enough resources available at: {ne_site_name}\")\n",
    "        break\n",
    "\n",
    "while True:\n",
    "    se_site_name = \"GATECH\"\n",
    "    if ( (fablib.resources.get_core_available(se_site_name) > 8) and\n",
    "        (fablib.resources.get_component_available(se_site_name, 'SharedNIC-ConnectX-6') > 8) ):\n",
    "        fablib.show_site(se_site_name)\n",
    "        break\n",
    "    else:\n",
    "        print(f\"Not enough resources available at: {se_site_name}\")\n",
    "        break\n",
    "        \n",
    "while True:\n",
    "    sw_site_name = \"UTAH\"\n",
    "    if ( (fablib.resources.get_core_available(sw_site_name) > 8) and\n",
    "        (fablib.resources.get_component_available(sw_site_name, 'SharedNIC-ConnectX-6') > 8) ):\n",
    "        fablib.show_site(sw_site_name)\n",
    "        break\n",
    "    else:\n",
    "        print(f\"Not enough resources available at: {sw_site_name}\")\n",
    "        break\n",
    "\n",
    "while True:\n",
    "    sink_site_name = \"DALL\"\n",
    "    if ( (fablib.resources.get_core_available(sink_site_name) > 8) and\n",
    "        (fablib.resources.get_component_available(sink_site_name, 'SharedNIC-ConnectX-6') > 8) ):\n",
    "        fablib.show_site(sink_site_name)\n",
    "        break\n",
    "    else:\n",
    "        print(f\"Not enough resources available at: {sink_site_name}\")\n",
    "        break\n"
   ]
  },
  {
   "cell_type": "code",
   "execution_count": null,
   "metadata": {},
   "outputs": [],
   "source": [
    "# this cell sets up sink nodes\n",
    "sink_rtr = slice.add_node(name='sink_router', site=sink_site_name, cores=2, ram=4, disk=10, image='default_ubuntu_20')\n",
    "sink_rtr.add_fabnet()\n",
    "\n",
    "\n",
    "sink_node = slice.add_node(name='sink', site=sink_site_name, cores=2, ram=4, disk=10, image='default_ubuntu_20')\n",
    "sink_node.add_fabnet()\n"
   ]
  },
  {
   "cell_type": "code",
   "execution_count": null,
   "metadata": {},
   "outputs": [],
   "source": [
    "# this cell sets up the NE nodes\n",
    "NE_1 = slice.add_node(name='NE_1', site=ne_site_name, cores=1, ram=2, disk=5, image='default_ubuntu_20')\n",
    "NE_2 = slice.add_node(name='NE_2', site=ne_site_name, cores=1, ram=2, disk=5, image='default_ubuntu_20')\n",
    "NE_3 = slice.add_node(name='NE_3', site=ne_site_name, cores=1, ram=2, disk=5, image='default_ubuntu_20')\n",
    "NE_4 = slice.add_node(name='NE_4', site=ne_site_name, cores=1, ram=2, disk=5, image='default_ubuntu_20')\n",
    "\n",
    "NE_1.add_fabnet()\n",
    "NE_2.add_fabnet()\n",
    "NE_3.add_fabnet()\n",
    "NE_4.add_fabnet()"
   ]
  },
  {
   "cell_type": "code",
   "execution_count": null,
   "metadata": {
    "editable": true,
    "slideshow": {
     "slide_type": ""
    },
    "tags": []
   },
   "outputs": [],
   "source": [
    "# this cell sets up the SE nodes\n",
    "SE_1 = slice.add_node(name='SE_1', site=se_site_name, cores=1, ram=2, disk=5, image='default_ubuntu_20')\n",
    "SE_2 = slice.add_node(name='SE_2', site=se_site_name, cores=1, ram=2, disk=5, image='default_ubuntu_20')\n",
    "SE_3 = slice.add_node(name='SE_3', site=se_site_name, cores=1, ram=2, disk=5, image='default_ubuntu_20')\n",
    "SE_4 = slice.add_node(name='SE_4', site=se_site_name, cores=1, ram=2, disk=5, image='default_ubuntu_20')\n",
    "\n",
    "SE_1.add_fabnet()\n",
    "SE_2.add_fabnet()\n",
    "SE_3.add_fabnet()\n",
    "SE_4.add_fabnet()"
   ]
  },
  {
   "cell_type": "code",
   "execution_count": null,
   "metadata": {},
   "outputs": [],
   "source": [
    "# this cell sets up the SW nodes\n",
    "SW_1 = slice.add_node(name='SW_1', site=sw_site_name, cores=1, ram=2, disk=5, image='default_ubuntu_20')\n",
    "SW_2 = slice.add_node(name='SW_2', site=sw_site_name, cores=1, ram=2, disk=5, image='default_ubuntu_20')\n",
    "SW_3 = slice.add_node(name='SW_3', site=sw_site_name, cores=1, ram=2, disk=5, image='default_ubuntu_20')\n",
    "SW_4 = slice.add_node(name='SW_4', site=sw_site_name, cores=1, ram=2, disk=5, image='default_ubuntu_20')\n",
    "\n",
    "SW_1.add_fabnet()\n",
    "SW_2.add_fabnet()\n",
    "SW_3.add_fabnet()\n",
    "SW_4.add_fabnet()"
   ]
  },
  {
   "cell_type": "code",
   "execution_count": null,
   "metadata": {},
   "outputs": [],
   "source": [
    "slice.submit()"
   ]
  },
  {
   "cell_type": "code",
   "execution_count": null,
   "metadata": {},
   "outputs": [],
   "source": [
    "slice.show();"
   ]
  },
  {
   "cell_type": "code",
   "execution_count": null,
   "metadata": {},
   "outputs": [],
   "source": [
    "slice.list_nodes();"
   ]
  },
  {
   "cell_type": "code",
   "execution_count": null,
   "metadata": {
    "editable": true,
    "slideshow": {
     "slide_type": ""
    },
    "tags": []
   },
   "outputs": [],
   "source": [
    "from datetime import datetime\n",
    "from datetime import timezone\n",
    "from datetime import timedelta\n",
    "\n",
    "# Set end date to 7 days from now\n",
    "end_date = (datetime.now(timezone.utc) + timedelta(days=7)).strftime(\"%Y-%m-%d %H:%M:%S %z\")\n",
    "slice.renew(end_date)"
   ]
  },
  {
   "cell_type": "code",
   "execution_count": null,
   "metadata": {},
   "outputs": [],
   "source": [
    "# install packages\n",
    "# this will take a while and will run in background while you do other steps\n",
    "packages = ['net-tools', 'iperf3', 'moreutils']\n",
    "\n",
    "for n in slice.get_nodes():\n",
    "    pkg = \" \".join(packages)\n",
    "    n.execute_thread(\"sudo apt update; sudo apt -y install %s\" % pkg)\n"
   ]
  },
  {
   "cell_type": "code",
   "execution_count": null,
   "metadata": {},
   "outputs": [],
   "source": [
    "l2_nets = [(n.get_name(), {'color': 'lavender'}) for n in slice.get_l2networks() ]\n",
    "l3_nets = [(n.get_name(), {'color': 'pink'}) for n in slice.get_l3networks() ]\n",
    "hosts   =   [(n.get_name(), {'color': 'lightblue'}) for n in slice.get_nodes()]\n",
    "nodes = l2_nets + l3_nets + hosts\n",
    "ifaces = [iface.toDict() for iface in slice.get_interfaces()]\n",
    "edges = [(iface['network'], iface['node'], \n",
    "          {'label': iface['physical_dev'] + '\\n' + iface['ip_addr'] + '\\n' + iface['mac']}) for iface in ifaces]"
   ]
  },
  {
   "cell_type": "code",
   "execution_count": null,
   "metadata": {
    "editable": true,
    "slideshow": {
     "slide_type": ""
    },
    "tags": []
   },
   "outputs": [],
   "source": [
    "import networkx as nx\n",
    "import matplotlib.pyplot as plt\n",
    "plt.figure(figsize=(len(nodes),len(nodes)))\n",
    "G = nx.Graph()\n",
    "G.add_nodes_from(nodes)\n",
    "G.add_edges_from(edges)\n",
    "pos = nx.spring_layout(G)\n",
    "nx.draw(G, pos, node_shape='s',  \n",
    "        node_color=[n[1]['color'] for n in nodes], \n",
    "        node_size=[len(n[0])*400 for n in nodes],  \n",
    "        with_labels=True);\n",
    "nx.draw_networkx_edge_labels(G,pos,\n",
    "                             edge_labels=nx.get_edge_attributes(G,'label'),\n",
    "                             font_color='gray',  font_size=8, rotate=False);"
   ]
  },
  {
   "cell_type": "code",
   "execution_count": null,
   "metadata": {
    "editable": true,
    "slideshow": {
     "slide_type": ""
    },
    "tags": []
   },
   "outputs": [],
   "source": [
    "import pandas as pd\n",
    "pd.set_option('display.max_colwidth', None)\n",
    "slice_info = [{'Name': n.get_name(), 'SSH command': n.get_ssh_command()} for n in slice.get_nodes()]\n",
    "pd.DataFrame(slice_info).set_index('Name')"
   ]
  },
  {
   "cell_type": "code",
   "execution_count": null,
   "metadata": {},
   "outputs": [],
   "source": [
    "slice.update()\n",
    "_ = slice.show()"
   ]
  },
  {
   "cell_type": "markdown",
   "metadata": {},
   "source": [
    "# When complete with the project"
   ]
  },
  {
   "cell_type": "code",
   "execution_count": null,
   "metadata": {},
   "outputs": [],
   "source": [
    "slice = fablib.get_slice(name=slice_name)\n",
    "fablib.delete_slice(slice_name)"
   ]
  },
  {
   "cell_type": "code",
   "execution_count": null,
   "metadata": {},
   "outputs": [],
   "source": [
    "slice.update()\n",
    "_ = slice.show()"
   ]
  },
  {
   "cell_type": "code",
   "execution_count": null,
   "metadata": {},
   "outputs": [],
   "source": []
  },
  {
   "cell_type": "code",
   "execution_count": null,
   "metadata": {},
   "outputs": [],
   "source": []
  }
 ],
 "metadata": {
  "kernelspec": {
   "display_name": "Python 3 (ipykernel)",
   "language": "python",
   "name": "python3"
  },
  "language_info": {
   "codemirror_mode": {
    "name": "ipython",
    "version": 3
   },
   "file_extension": ".py",
   "mimetype": "text/x-python",
   "name": "python",
   "nbconvert_exporter": "python",
   "pygments_lexer": "ipython3",
   "version": "3.11.8"
  }
 },
 "nbformat": 4,
 "nbformat_minor": 4
}
